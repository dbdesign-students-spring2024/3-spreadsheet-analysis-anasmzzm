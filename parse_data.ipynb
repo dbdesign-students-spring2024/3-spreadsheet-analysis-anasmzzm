{
 "cells": [
  {
   "cell_type": "code",
   "execution_count": 2,
   "id": "7b130380-b40f-4cbc-96ca-4422390759a6",
   "metadata": {},
   "outputs": [],
   "source": [
    "import os\n",
    "import pandas as pd\n",
    "from bs4 import BeautifulSoup"
   ]
  },
  {
   "cell_type": "code",
   "execution_count": 3,
   "id": "deed130e-c08a-4799-869b-16cdb168761a",
   "metadata": {},
   "outputs": [],
   "source": [
    "SCORE_DIR = 'Downloads/data/scores'\n",
    "box_scores = os.listdir(SCORE_DIR)"
   ]
  },
  {
   "cell_type": "code",
   "execution_count": 4,
   "id": "a8d2f72d-1055-49fb-9914-21063ad01953",
   "metadata": {},
   "outputs": [
    {
     "data": {
      "text/plain": [
       "10285"
      ]
     },
     "execution_count": 4,
     "metadata": {},
     "output_type": "execute_result"
    }
   ],
   "source": [
    "len(box_scores)"
   ]
  },
  {
   "cell_type": "code",
   "execution_count": 5,
   "id": "2ecab21b-086a-42bf-b1a8-3f4e30b2d4f9",
   "metadata": {},
   "outputs": [],
   "source": [
    "box_scores = [os.path.join(SCORE_DIR, f) for f in box_scores if f.endswith('.html')]"
   ]
  },
  {
   "cell_type": "code",
   "execution_count": 6,
   "id": "d3b661a6-5780-4c99-b354-2e08647233fe",
   "metadata": {},
   "outputs": [],
   "source": [
    "#take in a box score\n",
    "def parse_html(box_score):\n",
    "    #read boxscore\n",
    "    with open(box_score) as f:\n",
    "        html = f.read()\n",
    "    \n",
    "    #initialize a soup instance\n",
    "    soup = BeautifulSoup(html)\n",
    "    #listcomp to select all table over header tags and deletes them\n",
    "    [s.decompose() for s in soup.select('tr.over_header')]\n",
    "    [s.decompose() for s in soup.select('tr.thead')] #for the table header\n",
    "    return soup"
   ]
  },
  {
   "cell_type": "code",
   "execution_count": 7,
   "id": "bacc4cc8-556a-4be7-846c-a5cc8a029e48",
   "metadata": {},
   "outputs": [],
   "source": [
    "def read_line_score(soup):\n",
    "    #attrs (attributes) specifies what we want to look at\n",
    "    line_score = pd.read_html(str(soup), attrs = {'id': 'line_score'})[0]\n",
    "    cols = list(line_score.columns)\n",
    "    cols[0] = 'team'\n",
    "    cols[-1] = 'total'\n",
    "    line_score.columns = cols\n",
    "    \n",
    "    #getting rid of indiv quarte scores\n",
    "    line_score = line_score[['team', 'total']]\n",
    "    return line_score"
   ]
  },
  {
   "cell_type": "code",
   "execution_count": 8,
   "id": "5d03bf76-8ec5-4f2b-a6c9-a057a628803c",
   "metadata": {},
   "outputs": [],
   "source": [
    "def read_stats(soup, team, stat):\n",
    "    df = pd.read_html(str(soup), attrs = {'id': f'box-{team}-game-{stat}'}, index_col=0)[0]\n",
    "    df = df.apply(pd.to_numeric, errors = 'coerce')\n",
    "    return df"
   ]
  },
  {
   "cell_type": "code",
   "execution_count": 9,
   "id": "dc556690-a607-474f-837f-8d2dfaac9d58",
   "metadata": {},
   "outputs": [],
   "source": [
    "def read_season_info(soup):\n",
    "    nav = soup.select('#bottom_nav_container')[0]\n",
    "    hrefs = [a['href'] for a in nav.find_all('a')]\n",
    "    season = os.path.basename(hrefs[1]).split('_')[0]\n",
    "    return season"
   ]
  },
  {
   "cell_type": "code",
   "execution_count": 10,
   "id": "0fcfcf16-497a-49ed-bb22-b6ab9207ae4b",
   "metadata": {},
   "outputs": [
    {
     "name": "stdout",
     "output_type": "stream",
     "text": [
      "100 / 10284\n",
      "200 / 10284\n",
      "300 / 10284\n",
      "400 / 10284\n",
      "500 / 10284\n",
      "600 / 10284\n",
      "700 / 10284\n",
      "800 / 10284\n",
      "900 / 10284\n",
      "1000 / 10284\n",
      "1100 / 10284\n",
      "1200 / 10284\n",
      "1300 / 10284\n",
      "1400 / 10284\n",
      "1500 / 10284\n",
      "1600 / 10284\n",
      "1700 / 10284\n",
      "1800 / 10284\n",
      "1900 / 10284\n",
      "2000 / 10284\n",
      "2100 / 10284\n",
      "2200 / 10284\n",
      "2300 / 10284\n",
      "2400 / 10284\n",
      "2500 / 10284\n",
      "2600 / 10284\n",
      "2700 / 10284\n",
      "2800 / 10284\n",
      "2900 / 10284\n",
      "3000 / 10284\n",
      "3100 / 10284\n",
      "3200 / 10284\n",
      "3300 / 10284\n",
      "3400 / 10284\n",
      "3500 / 10284\n",
      "3600 / 10284\n",
      "3700 / 10284\n",
      "3800 / 10284\n",
      "3900 / 10284\n",
      "4000 / 10284\n",
      "4100 / 10284\n",
      "4200 / 10284\n",
      "4300 / 10284\n",
      "4400 / 10284\n",
      "4500 / 10284\n",
      "4600 / 10284\n",
      "4700 / 10284\n",
      "4800 / 10284\n",
      "4900 / 10284\n",
      "5000 / 10284\n",
      "5100 / 10284\n",
      "5200 / 10284\n",
      "5300 / 10284\n",
      "5400 / 10284\n",
      "5500 / 10284\n",
      "5600 / 10284\n",
      "5700 / 10284\n",
      "5800 / 10284\n",
      "5900 / 10284\n",
      "6000 / 10284\n",
      "6100 / 10284\n",
      "6200 / 10284\n",
      "6300 / 10284\n",
      "6400 / 10284\n",
      "6500 / 10284\n",
      "6600 / 10284\n",
      "6700 / 10284\n",
      "6800 / 10284\n",
      "6900 / 10284\n",
      "7000 / 10284\n",
      "7100 / 10284\n",
      "7200 / 10284\n",
      "7300 / 10284\n",
      "7400 / 10284\n",
      "7500 / 10284\n",
      "7600 / 10284\n",
      "7700 / 10284\n",
      "7800 / 10284\n",
      "7900 / 10284\n",
      "8000 / 10284\n",
      "8100 / 10284\n",
      "8200 / 10284\n",
      "8300 / 10284\n",
      "8400 / 10284\n",
      "8500 / 10284\n",
      "8600 / 10284\n",
      "8700 / 10284\n",
      "8800 / 10284\n",
      "8900 / 10284\n",
      "9000 / 10284\n",
      "9100 / 10284\n",
      "9200 / 10284\n",
      "9300 / 10284\n",
      "9400 / 10284\n",
      "9500 / 10284\n",
      "9600 / 10284\n",
      "9700 / 10284\n",
      "9800 / 10284\n",
      "9900 / 10284\n",
      "10000 / 10284\n",
      "10100 / 10284\n",
      "10200 / 10284\n"
     ]
    }
   ],
   "source": [
    "base_cols = None\n",
    "games = []\n",
    "\n",
    "for box_score in box_scores:\n",
    "    soup = parse_html(box_score)\n",
    "    line_score = read_line_score(soup)\n",
    "    teams = list(line_score['team'])\n",
    "\n",
    "    summaries = []\n",
    "    for team in teams:\n",
    "        basic = read_stats(soup, team, 'basic')\n",
    "        advanced = read_stats(soup, team, 'advanced')\n",
    "\n",
    "        totals = pd.concat([basic.iloc[-1,:], advanced.iloc[-1,:]])\n",
    "        totals.index = totals.index.str.lower()\n",
    "\n",
    "        maxes = pd.concat([basic.iloc[:-1,:].max(), advanced.iloc[:-1,:].max()])\n",
    "        maxes.index = maxes.index.str.lower() + '_max'\n",
    "\n",
    "        summary = pd.concat([totals, maxes])\n",
    "        if base_cols is None:\n",
    "            base_cols = list(summary.index.drop_duplicates(keep='first'))\n",
    "            base_cols = [b for b in base_cols if 'bpm' not in b]\n",
    "\n",
    "        summary = summary[base_cols]\n",
    "        summaries.append(summary)\n",
    "\n",
    "    summary = pd.concat(summaries, axis = 1).T\n",
    "\n",
    "    game = pd.concat([summary, line_score], axis =1)\n",
    "    game['home'] = [0,1]\n",
    "\n",
    "    game_opp = game.iloc[::-1].reset_index()\n",
    "    game_opp.columns += '_opp'\n",
    "\n",
    "    full_game = pd.concat([game, game_opp], axis =1)\n",
    "\n",
    "    full_game['season'] = read_season_info(soup)\n",
    "    full_game['date'] = os.path.basename(box_score)[:8]\n",
    "    full_game['date'] = pd.to_datetime(full_game['date'], format = '%Y%m%d')\n",
    "    full_game['won'] = full_game['total'] > full_game['total_opp']\n",
    "\n",
    "    games.append(full_game)\n",
    "    \n",
    "    if len(games) % 100 == 0:\n",
    "        print(f\"{len(games)} / {len(box_scores)}\")"
   ]
  },
  {
   "cell_type": "code",
   "execution_count": 11,
   "id": "a67d7aa3-4f38-4d17-b74c-250b559d1a53",
   "metadata": {},
   "outputs": [],
   "source": [
    "games_df = pd.concat(games, ignore_index=True)"
   ]
  },
  {
   "cell_type": "code",
   "execution_count": null,
   "id": "fd7c8a5d-f089-4759-aea7-346b8ab7afdd",
   "metadata": {},
   "outputs": [],
   "source": [
    "games_df"
   ]
  },
  {
   "cell_type": "code",
   "execution_count": null,
   "id": "f179004b-8166-4a81-ba38-6d4a57c5bbf1",
   "metadata": {},
   "outputs": [],
   "source": [
    "games_df.to_csv('nba_games.csv')"
   ]
  }
 ],
 "metadata": {
  "kernelspec": {
   "display_name": "Python 3 (ipykernel)",
   "language": "python",
   "name": "python3"
  },
  "language_info": {
   "codemirror_mode": {
    "name": "ipython",
    "version": 3
   },
   "file_extension": ".py",
   "mimetype": "text/x-python",
   "name": "python",
   "nbconvert_exporter": "python",
   "pygments_lexer": "ipython3",
   "version": "3.9.13"
  }
 },
 "nbformat": 4,
 "nbformat_minor": 5
}
